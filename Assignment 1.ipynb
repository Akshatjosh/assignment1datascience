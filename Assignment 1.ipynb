{
 "cells": [
  {
   "cell_type": "markdown",
   "id": "9a5b4408-1d2e-4d53-b32b-d00ceec832df",
   "metadata": {},
   "source": [
    "Question 1- Who developed python programming language ?\n",
    "Answer   1- Python was developed by Guido van Rossum, and released in 1989."
   ]
  },
  {
   "cell_type": "markdown",
   "id": "3e10b18a-3a5f-4d1a-9f69-75b4a97662e0",
   "metadata": {},
   "source": [
    "Question 2- Which type of programming does python support ?\n",
    "Answer   2- Python is a scripting langauge ,it support object-oriented, structured, and functional programming."
   ]
  },
  {
   "cell_type": "markdown",
   "id": "f699c249-0c59-4bb6-8dd0-228458457e12",
   "metadata": {},
   "source": [
    "Question 3- Is python is a case sensitive when dealing with indentifires ?\n",
    "Answer   3- Yes python is a case sensitive language ."
   ]
  },
  {
   "cell_type": "markdown",
   "id": "c911eddc-33b2-497f-be5a-021c7b68e7b9",
   "metadata": {},
   "source": [
    "Question 4- What is the correct extension of python file ?\n",
    "Answer   4- The extension of python is .py\n"
   ]
  },
  {
   "cell_type": "markdown",
   "id": "813d7c84-a7e8-4108-912b-36ecee34a8da",
   "metadata": {},
   "source": [
    "Question 5- Is python code compiled or interpreted ?\n",
    "Answer   5- Python is interpreted language"
   ]
  },
  {
   "cell_type": "markdown",
   "id": "76e1ec21-f4ca-4724-8133-6aa5525fc2ae",
   "metadata": {},
   "source": [
    "Question 6- Name a few block of code used to define in python language ?\n",
    "Answer  6- Few block of code used to define in python langauges are :-\n",
    "1 Function\n",
    "2 classes\n",
    "3 conditional statement i.e, if,elif,else\n",
    "4 loops i.e, for loop ,while loop"
   ]
  },
  {
   "cell_type": "markdown",
   "id": "db0bfa69-1909-4ed6-97c2-050a00807247",
   "metadata": {},
   "source": [
    "Question 7- State a character used to give single line comment in python ?\n",
    "Answer 7- # (Hash) is used as a character to give single line comment in python "
   ]
  },
  {
   "cell_type": "markdown",
   "id": "1d8a5144-8775-4526-b5da-e98c8794c534",
   "metadata": {},
   "source": [
    "Question 8- Mention function which can help us to find the version of python that we are currently working on it ?\n",
    "Answer 8-  We use sys.version function to find out the version of python that we are currently working on it.\n",
    "Syntax :-\n",
    "import sys\n",
    "print(sys.version)"
   ]
  },
  {
   "cell_type": "markdown",
   "id": "15feb522-409a-4b16-b3d8-b640bb18a4b0",
   "metadata": {},
   "source": [
    "Question 9- Python support the creation of anonymous function at runtime, using a construct called -\n",
    "Answer 9- Lambda is the function support by python tp create anonymous function at runtime,using a constructor\n"
   ]
  },
  {
   "cell_type": "markdown",
   "id": "76b5d37f-b5d7-45ac-8bb9-4bdc6a9a476e",
   "metadata": {},
   "source": [
    "Question 10- What does plp stand for python ?\n",
    "Answer 10- PIP stand for preferred installer package,used to install and manage packages and libraries written in Python ,It allows you to easily download and install packages from the Python Package Index (PyPI) and other package indexes. pip makes it easy to manage the dependencies of your Python projects, and makes it easy to share your code with others.pip can ensure that your projects have access to the right versions of the packages and libraries they need, without having to manually download and install them."
   ]
  },
  {
   "cell_type": "markdown",
   "id": "868e2843-e5da-4643-a58b-8b3ada5e1766",
   "metadata": {},
   "source": [
    "Question 11- Mention a few built in function in python ?\n",
    "Answer 11 -  Few built in function in python are :-\n",
    "1 print()= prints a string or other data to the console\n",
    "2 len()=returns the length of an object, such as a string, list, or tuple\n",
    "3 count()=find number of occurance of character in string\n",
    "4 find()=find character use in string\n",
    "5 append()=to add in list , it add at the end of list\n",
    "6 insert()=to add value in list where we want use using index number\n",
    "7 remove()=remove a value from list ,it remove first occurance of value by default\n",
    "8 pop()=it will delete value from last by default\n",
    "9 replace()=to replace a value in string,it will be tempory\n",
    "10 list()= used to convert into list"
   ]
  },
  {
   "cell_type": "markdown",
   "id": "2f76619e-cdfd-402e-8dba-4d8cc709a1db",
   "metadata": {},
   "source": [
    "Question 12- What is the maximum possible value length of an identifier in python ?\n",
    "Answer 12 - The maximum possible value length of an indentifier in python is 256 character "
   ]
  },
  {
   "cell_type": "markdown",
   "id": "04d2b786-77f2-42bf-80c2-6a4c36061fe1",
   "metadata": {},
   "source": [
    "Question 13- What are the benefit of using python ?\n",
    "Answer 13- The benefit of using python are :-\n",
    "Easy to Learn and Use: Python has a simple and intuitive syntax that makes it easy to learn and use, even for those who have no prior programming experience.\n",
    "\n",
    "Versatile: Python is a versatile language that can be used for a wide range of tasks, including web development, scientific computing, data analysis, artificial intelligence, and more.\n",
    "\n",
    "Large Community and Support: Python has a large and active community of users, who contribute to its development and provide support and help to others. This makes it easy to find help and resources when you need them.\n",
    "\n",
    "Open-Source: Python is an open-source language, which means that its source code is freely available for anyone to use and modify. This makes it a cost-effective option for developers and businesses.\n",
    "\n",
    "Large Standard Library: Python has a large standard library that includes modules for a wide range of tasks, such as connecting to web servers, reading and writing files, and working with data. This makes it easy to perform common tasks without having to write code from scratch.\n",
    "\n",
    "Cross-Platform: Python is a cross-platform language, which means that it can run on multiple operating systems, including Windows, MacOS, and Linux.\n",
    "\n",
    "Dynamic Typing: Python uses dynamic typing, which means that variables can be assigned to any type of value, without having to declare their type. This makes it easier to write code quickly, and reduces the risk of type-related errors."
   ]
  },
  {
   "cell_type": "markdown",
   "id": "a6da335c-9811-4bac-8364-c0d8eaa72847",
   "metadata": {},
   "source": [
    "Question 14- How is memory manage in python ?\n",
    "Answer 14- The Python memory manager uses a combination of reference counting and garbage collection to manage memory. Reference counting keeps track of the number of references to an object in memory, and when that count reaches zero, the memory occupied by the object is freed. Garbage collection is a process that periodically scans memory for objects that are no longer accessible by the program, and frees the memory occupied by those objects.\n",
    "The Python memory manager also makes use of a memory manager API, which provides a way for Python extensions and libraries to allocate memory in a way that is compatible with the memory manager. This allows extensions and libraries to be written in a way that works with the Python memory manager, and makes it easier to manage memory in Python programs.\n"
   ]
  },
  {
   "cell_type": "markdown",
   "id": "6cb3ca8c-c6ce-402b-a5e4-d2a5db838c89",
   "metadata": {},
   "source": [
    "Question 15- How to install python in window and set path variables ?\n",
    "Answer 15- Download the Python installer from the official Python website and run it.\n",
    "\n",
    "During the installation process, make sure to check the option \"Add Python 3.x to PATH\".\n",
    "\n",
    "Once the installation is complete, open the Command Prompt and type \"python\" to check if the installation was successful.\n",
    "\n",
    "To set the path variable, right-click on the Windows start button, select System, then Advanced system settings.\n",
    "\n",
    "In the Advanced tab, click on Environment Variables.\n",
    "\n",
    "In the System Variables section, scroll down to find the Path variable, then click on Edit.\n",
    "\n",
    "Click New and add the path to your Python installation, for example: \"C:\\Python3x\".\n",
    "\n",
    "Restart the Command Prompt or any open terminal windows to apply the changes.\n",
    "\n",
    "Type \"python\" in the Command Prompt to check if the path variable has been set correctly."
   ]
  },
  {
   "cell_type": "markdown",
   "id": "62a7cac1-a8cb-4835-95ab-37f942aab00c",
   "metadata": {},
   "source": [
    "Question 16- Is indentation required in python ?\n",
    "Answer 16- Yes indentation is required in python. In Python, indentation is used to indicate a block of code that is part of a larger block of code\n",
    "if True:\n",
    "    print(\"This is an example of indentation in Python.\")\n",
    "    print(\"The body of the if statement is indented.\")\n",
    "\n",
    "print(\"This line is not indented and is outside of the if statement.\")\n",
    "\n"
   ]
  },
  {
   "cell_type": "code",
   "execution_count": null,
   "id": "76022fde-25a4-4aef-b63b-21c94203c79f",
   "metadata": {},
   "outputs": [],
   "source": []
  }
 ],
 "metadata": {
  "kernelspec": {
   "display_name": "Python 3 (ipykernel)",
   "language": "python",
   "name": "python3"
  },
  "language_info": {
   "codemirror_mode": {
    "name": "ipython",
    "version": 3
   },
   "file_extension": ".py",
   "mimetype": "text/x-python",
   "name": "python",
   "nbconvert_exporter": "python",
   "pygments_lexer": "ipython3",
   "version": "3.10.8"
  }
 },
 "nbformat": 4,
 "nbformat_minor": 5
}
